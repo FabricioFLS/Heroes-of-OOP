{
  "nbformat": 4,
  "nbformat_minor": 0,
  "metadata": {
    "colab": {
      "name": "Heroes-of-OPP",
      "provenance": [],
      "collapsed_sections": [],
      "include_colab_link": true
    },
    "kernelspec": {
      "name": "java",
      "display_name": "Java"
    }
  },
  "cells": [
    {
      "cell_type": "markdown",
      "metadata": {
        "id": "view-in-github",
        "colab_type": "text"
      },
      "source": [
        "<a href=\"https://colab.research.google.com/github/FabricioFLS/Heroes-of-OOP/blob/master/Heroes_of_OPP.ipynb\" target=\"_parent\"><img src=\"https://colab.research.google.com/assets/colab-badge.svg\" alt=\"Open In Colab\"/></a>"
      ]
    },
    {
      "cell_type": "code",
      "source": [
        "public class Jogo {\n",
        "    public static void main(String[] args) {\n",
        "        \n",
        "    }\n",
        "}"
      ],
      "metadata": {
        "id": "71GWr3DWQrDB"
      },
      "execution_count": 27,
      "outputs": []
    },
    {
      "cell_type": "code",
      "source": [
        "public class Arma {\n",
        "    private String nomeArma;\n",
        "    private int ataque;\n",
        "    private int defesa;\n",
        "    \n",
        "    public String getNomeArma() {\n",
        "        return nomeArma;\n",
        "    }\n",
        "    public void setNomeArma(String nomeArma) {\n",
        "        this.nomeArma = nomeArma;\n",
        "    }\n",
        "    public int getAtaque() {\n",
        "        return ataque;\n",
        "    }\n",
        "    public void setAtaque(int ataque) {\n",
        "        this.ataque = ataque;\n",
        "    }\n",
        "    public int getDefesa() {\n",
        "        return defesa;\n",
        "    }\n",
        "    public void setDefesa(int defesa) {\n",
        "        this.defesa = defesa;\n",
        "    }\n",
        "    \n",
        "}"
      ],
      "metadata": {
        "id": "8V8ht9fqRJtI"
      },
      "execution_count": 35,
      "outputs": []
    },
    {
      "cell_type": "code",
      "source": [
        "public class ArcoLongo extends Arma {\n",
        "\n",
        "    public ArcoLongo() {\n",
        "        super();\n",
        "        setNomeArma(\"Arco Longo\");\n",
        "        setAtaque(12);\n",
        "        setDefesa(13);\n",
        "    }\n",
        "    \n",
        "}"
      ],
      "metadata": {
        "id": "3JIZm-1lR6ku"
      },
      "execution_count": 46,
      "outputs": []
    },
    {
      "cell_type": "code",
      "source": [
        "public class Balestra extends Arma {\n",
        "\n",
        "    public Balestra() {\n",
        "        super();\n",
        "        setNomeArma(\"Balestra\");\n",
        "        setAtaque(15);\n",
        "        setDefesa(10);\n",
        "    }   \n",
        "    \n",
        "}"
      ],
      "metadata": {
        "id": "5r42F8u5SGxv"
      },
      "execution_count": 49,
      "outputs": []
    },
    {
      "cell_type": "code",
      "source": [
        "public class Cajado extends Arma {\n",
        "\n",
        "    public Cajado() {\n",
        "        super();\n",
        "        setNomeArma(\"Cajado\");\n",
        "        setAtaque(13);\n",
        "        setDefesa(12);\n",
        "    }\n",
        "    \n",
        "}"
      ],
      "metadata": {
        "id": "1MDjmyCVSMn_"
      },
      "execution_count": 51,
      "outputs": []
    },
    {
      "cell_type": "code",
      "source": [
        "public class Espada extends Arma {\n",
        "\n",
        "    public Espada() {\n",
        "        super();\n",
        "        setNomeArma(\"Espada\");\n",
        "        setAtaque(10);\n",
        "        setDefesa(15);\n",
        "    }\n",
        "    \n",
        "}"
      ],
      "metadata": {
        "id": "56Ehax0YSTTv"
      },
      "execution_count": 54,
      "outputs": []
    },
    {
      "cell_type": "code",
      "source": [
        "public class Machado extends Arma {\n",
        "\n",
        "    public Machado() {\n",
        "        super();\n",
        "        setNomeArma(\"Machado\");\n",
        "        setAtaque(17);\n",
        "        setDefesa(8);\n",
        "    }\n",
        "    \n",
        "}"
      ],
      "metadata": {
        "id": "JQOl0vdgSagH"
      },
      "execution_count": 56,
      "outputs": []
    },
    {
      "cell_type": "code",
      "source": [
        "public class Varinha extends Arma {\n",
        "\n",
        "    public Varinha() {\n",
        "        super();\n",
        "        setNomeArma(\"Varinha\");\n",
        "        setAtaque(16);\n",
        "        setDefesa(9);\n",
        "    }\n",
        "    \n",
        "}"
      ],
      "metadata": {
        "id": "acScZeRUSgbn"
      },
      "execution_count": 59,
      "outputs": []
    },
    {
      "cell_type": "code",
      "source": [
        "public class Personagem {\n",
        "    private int ataque;\n",
        "    private int defesa;\n",
        "    private int vida;\n",
        "    private String nomePersonagem;\n",
        "    private Arma armaPersonagem;\n",
        "    \n",
        "    public int getAtaque() {\n",
        "        return ataque;\n",
        "    }\n",
        "    public void setAtaque(int ataque) {\n",
        "        this.ataque = ataque;\n",
        "    }\n",
        "    public int getDefesa() {\n",
        "        return defesa;\n",
        "    }\n",
        "    public void setDefesa(int defesa) {\n",
        "        this.defesa = defesa;\n",
        "    }\n",
        "    public int getVida() {\n",
        "        return vida;\n",
        "    }\n",
        "    public void setVida(int vida) {\n",
        "        this.vida = vida;\n",
        "    }\n",
        "    public String getNomePersonagem() {\n",
        "        return nomePersonagem;\n",
        "    }\n",
        "    public void setNomePersonagem(String nomePersonagem) {\n",
        "        this.nomePersonagem = nomePersonagem;\n",
        "    }\n",
        "    public void name() {\n",
        "        \n",
        "    }\n",
        "    public Arma getArmaPersonagem() {\n",
        "        return armaPersonagem;\n",
        "    }\n",
        "    public void setArmaPersonagem(Arma armaPersonagem) {\n",
        "        this.armaPersonagem = armaPersonagem;\n",
        "    }\n",
        "\n",
        "}"
      ],
      "metadata": {
        "id": "VVGnrXcuRAlh"
      },
      "execution_count": 37,
      "outputs": []
    },
    {
      "cell_type": "code",
      "source": [
        "public class Arqueiro extends Personagem {\n",
        "\n",
        "    public Arqueiro() {\n",
        "        super();\n",
        "        setAtaque(20);\n",
        "        setDefesa(30);\n",
        "        setVida(160);\n",
        "    }\n",
        "    \n",
        "}"
      ],
      "metadata": {
        "id": "XuMoQrctRyTH"
      },
      "execution_count": 44,
      "outputs": []
    },
    {
      "cell_type": "code",
      "source": [
        "public class Dragao {\n",
        "\n",
        "    public Dragao() {\n",
        "        super();\n",
        "    }\n",
        "    \n",
        "}"
      ],
      "metadata": {
        "id": "gcokKfIVSnew"
      },
      "execution_count": 61,
      "outputs": []
    },
    {
      "cell_type": "code",
      "source": [
        "public class Guerreiro extends Personagem {\n",
        "\n",
        "    public Guerreiro() {\n",
        "        super();\n",
        "        setAtaque(30);\n",
        "        setDefesa(20);\n",
        "        setVida(180);\n",
        "    }\n",
        "    \n",
        "}"
      ],
      "metadata": {
        "id": "p_luVdAESx0_"
      },
      "execution_count": 64,
      "outputs": []
    },
    {
      "cell_type": "code",
      "source": [
        "public class Mago extends Personagem {\n",
        "\n",
        "    public Mago() {\n",
        "        super();\n",
        "        setNomePersonagem(\"Mago\");\n",
        "        setAtaque(20);\n",
        "        setDefesa(10);\n",
        "        setVida(200);\n",
        "    }\n",
        "    \n",
        "}"
      ],
      "metadata": {
        "id": "AsIV7BbyS3KW"
      },
      "execution_count": 66,
      "outputs": []
    }
  ]
}